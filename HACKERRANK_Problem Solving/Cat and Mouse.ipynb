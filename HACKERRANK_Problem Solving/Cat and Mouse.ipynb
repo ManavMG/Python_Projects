{
 "cells": [
  {
   "cell_type": "code",
   "execution_count": 20,
   "metadata": {},
   "outputs": [
    {
     "name": "stdout",
     "output_type": "stream",
     "text": [
      "Enter the queries :3\n",
      "1\n",
      "3\n",
      "2\n",
      "[1, 3, 2]\n",
      "Mouse C\n",
      "Mouse C\n",
      "Mouse C\n"
     ]
    }
   ],
   "source": [
    "n= int(input(\"Enter the queries :\"))\n",
    "ar =[]\n",
    "for i in range(n):\n",
    "    a = int(input())\n",
    "    ar.append(a)\n",
    "print(ar)\n",
    "#ar[0] = cat\n",
    "#ar[1] = cat\n",
    "#ar[2] = mouse\n",
    "for i in range(len(ar)):\n",
    "    if (abs(ar[2]-ar[0]) < abs(ar[2]-ar[1])):\n",
    "        print('Cat A')\n",
    "    elif (abs(ar[2]-ar[0]) > abs(ar[2]-ar[1])):\n",
    "        print('Cat B')\n",
    "    else:\n",
    "        print('Mouse C')"
   ]
  },
  {
   "cell_type": "code",
   "execution_count": 9,
   "metadata": {},
   "outputs": [
    {
     "data": {
      "text/plain": [
       "1"
      ]
     },
     "execution_count": 9,
     "metadata": {},
     "output_type": "execute_result"
    }
   ],
   "source": [
    "def catAndMouse(x, y, z):\n",
    "if (abs(z-x) < abs(z-y)):\n",
    "    return 'Cat A'\n",
    "elif (abs(z-x) > abs(z-y)):\n",
    "    return 'Cat B'\n",
    "else:\n",
    "    return 'Mouse C'"
   ]
  }
 ],
 "metadata": {
  "kernelspec": {
   "display_name": "Python 3",
   "language": "python",
   "name": "python3"
  },
  "language_info": {
   "codemirror_mode": {
    "name": "ipython",
    "version": 3
   },
   "file_extension": ".py",
   "mimetype": "text/x-python",
   "name": "python",
   "nbconvert_exporter": "python",
   "pygments_lexer": "ipython3",
   "version": "3.7.6"
  }
 },
 "nbformat": 4,
 "nbformat_minor": 4
}
