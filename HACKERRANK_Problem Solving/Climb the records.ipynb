{
 "cells": [
  {
   "cell_type": "code",
   "execution_count": 11,
   "metadata": {},
   "outputs": [
    {
     "name": "stdout",
     "output_type": "stream",
     "text": [
      "[10, 20, 40, 50, 100]\n",
      "[6, 4, 2, 1]\n"
     ]
    }
   ],
   "source": [
    "scores = [100,100,50,40,40,20,10]\n",
    "alice = [5,25,50,120]\n",
    "scores = sorted(list(set(scores)))\n",
    "print(scores)\n",
    "index = 0\n",
    "rank_list = []\n",
    "n = len(scores)\n",
    "for i in alice:\n",
    "    while (n > index and i >= scores[index]):\n",
    "        index += 1\n",
    "    rank_list.append(n+1-index) \n",
    "print(rank_list)"
   ]
  }
 ],
 "metadata": {
  "kernelspec": {
   "display_name": "Python 3",
   "language": "python",
   "name": "python3"
  },
  "language_info": {
   "codemirror_mode": {
    "name": "ipython",
    "version": 3
   },
   "file_extension": ".py",
   "mimetype": "text/x-python",
   "name": "python",
   "nbconvert_exporter": "python",
   "pygments_lexer": "ipython3",
   "version": "3.7.6"
  }
 },
 "nbformat": 4,
 "nbformat_minor": 4
}
