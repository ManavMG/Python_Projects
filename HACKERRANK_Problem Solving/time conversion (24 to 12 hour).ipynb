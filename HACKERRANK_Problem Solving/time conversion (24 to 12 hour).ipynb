{
 "cells": [
  {
   "cell_type": "code",
   "execution_count": 4,
   "metadata": {},
   "outputs": [
    {
     "name": "stdout",
     "output_type": "stream",
     "text": [
      "enter the time : 35\n",
      "enter the minutes : 25\n",
      "enter the seconds : 15\n",
      "the time is35:25:15\n",
      "the time after conversion is11:25:15\n"
     ]
    }
   ],
   "source": [
    "h =  int(input(\"enter the time : \"))\n",
    "m =  int(input(\"enter the minutes : \"))\n",
    "s =  int(input(\"enter the seconds : \"))\n",
    "print(\"the time is\" + str(h) + \":\" + str(m) + \":\" + str(s))\n",
    "\n",
    "h1 = h%12\n",
    "print(\"the time after conversion is\" + str(h1) + \":\" + str(m) + \":\" + str(s))\n"
   ]
  }
 ],
 "metadata": {
  "kernelspec": {
   "display_name": "Python 3",
   "language": "python",
   "name": "python3"
  },
  "language_info": {
   "codemirror_mode": {
    "name": "ipython",
    "version": 3
   },
   "file_extension": ".py",
   "mimetype": "text/x-python",
   "name": "python",
   "nbconvert_exporter": "python",
   "pygments_lexer": "ipython3",
   "version": "3.7.6"
  }
 },
 "nbformat": 4,
 "nbformat_minor": 4
}
