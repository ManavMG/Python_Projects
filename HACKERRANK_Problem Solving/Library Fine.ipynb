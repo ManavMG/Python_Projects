{
 "cells": [
  {
   "cell_type": "code",
   "execution_count": 5,
   "metadata": {},
   "outputs": [
    {
     "name": "stdout",
     "output_type": "stream",
     "text": [
      "6\n",
      "6\n",
      "2015\n",
      "9\n",
      "6\n",
      "2015\n"
     ]
    }
   ],
   "source": [
    "d1 = int(input()) \n",
    "m1 = int(input())\n",
    "y1 = int(input()) \n",
    "d2 = int(input()) \n",
    "m2 = int(input())\n",
    "y2 = int(input())\n",
    "\n",
    "if y2 == y1:\n",
    "    if m1 == m2:\n",
    "        if d2<d1:\n",
    "            print(15*(d1-d2))\n",
    "            \n",
    "if y2 == y1:\n",
    "    if m1 > m2:\n",
    "        if d2<d1:\n",
    "            print(15*(d1-d2)+(m1-m2*30))\n",
    "            \n",
    "else:\n",
    "    print(10000)"
   ]
  }
 ],
 "metadata": {
  "kernelspec": {
   "display_name": "Python 3",
   "language": "python",
   "name": "python3"
  },
  "language_info": {
   "codemirror_mode": {
    "name": "ipython",
    "version": 3
   },
   "file_extension": ".py",
   "mimetype": "text/x-python",
   "name": "python",
   "nbconvert_exporter": "python",
   "pygments_lexer": "ipython3",
   "version": "3.7.6"
  }
 },
 "nbformat": 4,
 "nbformat_minor": 4
}
