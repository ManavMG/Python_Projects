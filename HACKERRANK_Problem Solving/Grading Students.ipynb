{
 "cells": [
  {
   "cell_type": "code",
   "execution_count": 23,
   "metadata": {},
   "outputs": [
    {
     "name": "stdout",
     "output_type": "stream",
     "text": [
      "Enter the no. of grade :4\n",
      "Enter no. of grades37\n",
      "Enter no. of grades40\n",
      "Enter no. of grades33\n",
      "Enter no. of grades21\n",
      "37\n",
      "40\n",
      "33\n",
      "21\n"
     ]
    }
   ],
   "source": [
    "grades = int(input(\"Enter the no. of grade :\"))\n",
    "grade = []\n",
    "for _ in range(grades):\n",
    "    n = int(input('Enter no. of grades'))\n",
    "    grade.append(n)\n",
    "#print(grade)\n",
    "\n",
    "for i in grade:\n",
    "    if (i) <38:\n",
    "        print(str(i))\n",
    "    elif (i%5) == 3:\n",
    "        i = i+2\n",
    "        print(str(i))\n",
    "    elif (i%5) == 4:\n",
    "        i = i+1\n",
    "        print(str(i))\n",
    "    else:\n",
    "        print(str(i))\n",
    "\n"
   ]
  }
 ],
 "metadata": {
  "kernelspec": {
   "display_name": "Python 3",
   "language": "python",
   "name": "python3"
  }
 },
 "nbformat": 4,
 "nbformat_minor": 4
}
