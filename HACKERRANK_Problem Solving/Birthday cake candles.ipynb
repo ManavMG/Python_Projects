{
 "cells": [
  {
   "cell_type": "code",
   "execution_count": 12,
   "metadata": {},
   "outputs": [
    {
     "name": "stdout",
     "output_type": "stream",
     "text": [
      "5\n"
     ]
    }
   ],
   "source": [
    "a = [18, 90, 90, 13, 90, 75, 90, 8, 90, 43]\n",
    "accum = 0\n",
    "\n",
    "big =  max(a)\n",
    "for i in range(len(a)):\n",
    "    if a[i] == big:\n",
    "        accum+=1\n",
    "print(accum)\n",
    "#return(accum)"
   ]
  }
 ],
 "metadata": {
  "kernelspec": {
   "display_name": "Python 3",
   "language": "python",
   "name": "python3"
  },
  "language_info": {
   "codemirror_mode": {
    "name": "ipython",
    "version": 3
   },
   "file_extension": ".py",
   "mimetype": "text/x-python",
   "name": "python",
   "nbconvert_exporter": "python",
   "pygments_lexer": "ipython3",
   "version": "3.7.6"
  }
 },
 "nbformat": 4,
 "nbformat_minor": 4
}
