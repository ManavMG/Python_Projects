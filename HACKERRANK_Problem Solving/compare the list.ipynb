{
 "cells": [
  {
   "cell_type": "code",
   "execution_count": 51,
   "metadata": {},
   "outputs": [
    {
     "name": "stdout",
     "output_type": "stream",
     "text": [
      "1 1\n"
     ]
    }
   ],
   "source": [
    "    alice = 0\n",
    "    bob = 0\n",
    "    a = [5,6,7]\n",
    "    b = [3,6,10]\n",
    "    for i in range(3):\n",
    "        if a[i]>b[i]:\n",
    "            alice+=1\n",
    "        elif b[i]>a[i]:\n",
    "            bob +=1\n",
    "    print(alice, bob)\n",
    "    "
   ]
  }
 ],
 "metadata": {
  "kernelspec": {
   "display_name": "Python 3",
   "language": "python",
   "name": "python3"
  },
  "language_info": {
   "codemirror_mode": {
    "name": "ipython",
    "version": 3
   },
   "file_extension": ".py",
   "mimetype": "text/x-python",
   "name": "python",
   "nbconvert_exporter": "python",
   "pygments_lexer": "ipython3",
   "version": "3.7.6"
  }
 },
 "nbformat": 4,
 "nbformat_minor": 4
}
