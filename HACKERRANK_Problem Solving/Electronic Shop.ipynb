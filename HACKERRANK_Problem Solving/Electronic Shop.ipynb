{
 "cells": [
  {
   "cell_type": "code",
   "execution_count": 34,
   "metadata": {},
   "outputs": [
    {
     "name": "stdout",
     "output_type": "stream",
     "text": [
      "Enter the no. (b):10\n",
      "Enter the no. (n):2\n",
      "Enter the no. (m):3\n",
      "enter the no. :3\n",
      "enter the no. :1\n",
      "enter the no. :5\n",
      "enter the no. :2\n",
      "enter the no. :8\n",
      "3 5\n",
      "3 2\n",
      "3 8\n",
      "1 5\n",
      "1 2\n",
      "1 8\n",
      "[8, 5, 6, 3, 9]\n",
      "9\n"
     ]
    }
   ],
   "source": [
    "b = int(input(\"Enter the no. (b):\"))\n",
    "n = int(input(\"Enter the no. (n):\"))\n",
    "m = int(input(\"Enter the no. (m):\"))\n",
    "\n",
    "accum = []\n",
    "for i in range(n):\n",
    "    ab = int(input(\"enter the no. :\"))\n",
    "    accum.append(ab)\n",
    "#print(accum)\n",
    "\n",
    "accum1 = []\n",
    "\n",
    "for i in range(m):\n",
    "    bc = int(input(\"enter the no. :\"))\n",
    "    accum1.append(bc)\n",
    "#print(accum1)\n",
    "\n",
    "\n",
    "accum3 = 0\n",
    "accum4 = []\n",
    "for c in accum:\n",
    "    for d in accum1:\n",
    "        print(c,d)\n",
    "        if (c+d) < b:\n",
    "            accum3 = c+d\n",
    "            accum4.append(accum3)\n",
    "            \n",
    "print(accum4)\n",
    "\n",
    "a = 0\n",
    "for i in accum4:\n",
    "    a = max(accum4)\n",
    "print(a)\n",
    "    "
   ]
  }
 ],
 "metadata": {
  "kernelspec": {
   "display_name": "Python 3",
   "language": "python",
   "name": "python3"
  },
  "language_info": {
   "codemirror_mode": {
    "name": "ipython",
    "version": 3
   },
   "file_extension": ".py",
   "mimetype": "text/x-python",
   "name": "python",
   "nbconvert_exporter": "python",
   "pygments_lexer": "ipython3",
   "version": "3.7.6"
  }
 },
 "nbformat": 4,
 "nbformat_minor": 4
}
