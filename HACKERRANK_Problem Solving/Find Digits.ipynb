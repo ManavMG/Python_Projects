{
 "cells": [
  {
   "cell_type": "code",
   "execution_count": 26,
   "metadata": {},
   "outputs": [
    {
     "name": "stdout",
     "output_type": "stream",
     "text": [
      "Enter the No. :12\n",
      "2\n",
      "[1, 2]\n"
     ]
    }
   ],
   "source": [
    "n =  int(input(\"Enter the No. :\"))\n",
    "\n",
    "m = [int(i) for i in str(n)]\n",
    "min = 0\n",
    "max = 0\n",
    "for i in range(len(m)):\n",
    "    if m[i] != 0:\n",
    "        if n%m[i] == 0:\n",
    "            max+=1\n",
    "\n",
    "print(max)\n",
    "#print(m)"
   ]
  }
 ],
 "metadata": {
  "kernelspec": {
   "display_name": "Python 3",
   "language": "python",
   "name": "python3"
  },
  "language_info": {
   "codemirror_mode": {
    "name": "ipython",
    "version": 3
   },
   "file_extension": ".py",
   "mimetype": "text/x-python",
   "name": "python",
   "nbconvert_exporter": "python",
   "pygments_lexer": "ipython3",
   "version": "3.7.6"
  }
 },
 "nbformat": 4,
 "nbformat_minor": 4
}
