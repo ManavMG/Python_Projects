{
 "cells": [
  {
   "cell_type": "code",
   "execution_count": 14,
   "metadata": {},
   "outputs": [
    {
     "name": "stdout",
     "output_type": "stream",
     "text": [
      "ENter the Hour3\n",
      "ENter the Minutes00\n",
      "Three o' clock\n"
     ]
    }
   ],
   "source": [
    "mins = {1:\"one minute\", 2:\"two minutes\", 3:\"three minutes\", 4:\"four minutes\", 5:\"five minutes\", 6:\"six minutes\",\n",
    "    7:\"seven minutes\", 8:\"eight minutes\", 9:\"nine minutes\", 10:\"ten minutes\", 11:\"eleven minutes\", 12:\"twelve minutes\", \n",
    "    13:\"thirteen minutes\", 14:\"fourteen minutes\", 15:\"quarter\", 16:\"sixteen minutes\", 17:\"seventeen minutes\", 18:\"eighteen minutes\",\n",
    "    19:\"nineteen minutes\", 20:\"twenty minutes\", 21:\"twenty one minutes\", 22:\"twenty two minutes\", 23:\"twenty three minutes\", 24:\"twenty four minutes\",\n",
    "    25:\"twenty five minutes\", 26:\"twenty six minutes\", 27:\"twenty seven minutes\", 28:\"twenty eight minutes\", 29:\"twenty nine minutes\",\n",
    "    30:\"half\"\n",
    "}\n",
    "\n",
    "hours = {\n",
    "    1:\"one\",\n",
    "    2:\"two\",\n",
    "    3:\"three\",\n",
    "    4:\"four\",\n",
    "    5:\"five\",\n",
    "    6:\"six\",\n",
    "    7:\"seven\",\n",
    "    8:\"eight\",\n",
    "    9:\"nine\",\n",
    "    10:\"ten\",\n",
    "    11:\"eleven\",\n",
    "    12:\"twelve\",\n",
    "    13:\"one\"\n",
    "}\n",
    "h = int(input(\"ENter the Hour\"))\n",
    "m = int(input(\"ENter the Minutes\"))\n",
    "\n",
    "if m== 00:\n",
    "    print(hour[h], \"o' clock\")\n",
    "elif m <= 30:\n",
    "    print(mins[m] + ' past'+ hour[h])\n",
    "else:\n",
    "    print(mins[60-m] + ' to ' + hours[h+1])\n"
   ]
  }
 ],
 "metadata": {
  "kernelspec": {
   "display_name": "Python 3",
   "language": "python",
   "name": "python3"
  },
  "language_info": {
   "codemirror_mode": {
    "name": "ipython",
    "version": 3
   },
   "file_extension": ".py",
   "mimetype": "text/x-python",
   "name": "python",
   "nbconvert_exporter": "python",
   "pygments_lexer": "ipython3",
   "version": "3.7.6"
  }
 },
 "nbformat": 4,
 "nbformat_minor": 4
}
