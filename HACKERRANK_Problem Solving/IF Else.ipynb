{
 "cells": [
  {
   "cell_type": "code",
   "execution_count": 45,
   "metadata": {},
   "outputs": [
    {
     "name": "stdout",
     "output_type": "stream",
     "text": [
      "Enter a no. :3\n",
      "weird\n"
     ]
    }
   ],
   "source": [
    "n = int(input(\"Enter a no. :\"))\n",
    "if (n%2) ==1:\n",
    "    print('weird')\n",
    "elif (n%2) == 0:\n",
    "    if n>2 and n<5:\n",
    "        print(\"not weird\")\n",
    "    elif n>6 and n<20:\n",
    "        print(\"weird\")\n",
    "        \n",
    "    else:\n",
    "        print(\"not weird\")"
   ]
  },
  {
   "cell_type": "code",
   "execution_count": null,
   "metadata": {},
   "outputs": [],
   "source": []
  }
 ],
 "metadata": {
  "kernelspec": {
   "display_name": "Python 3",
   "language": "python",
   "name": "python3"
  },
  "language_info": {
   "codemirror_mode": {
    "name": "ipython",
    "version": 3
   },
   "file_extension": ".py",
   "mimetype": "text/x-python",
   "name": "python",
   "nbconvert_exporter": "python",
   "pygments_lexer": "ipython3",
   "version": "3.7.6"
  }
 },
 "nbformat": 4,
 "nbformat_minor": 4
}
