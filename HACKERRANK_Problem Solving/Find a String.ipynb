{
 "cells": [
  {
   "cell_type": "code",
   "execution_count": 27,
   "metadata": {},
   "outputs": [
    {
     "name": "stdout",
     "output_type": "stream",
     "text": [
      "2\n"
     ]
    }
   ],
   "source": [
    "string = 'ABCDCDC'\n",
    "sub_string = 'CDC'\n",
    "accum = 0\n",
    "\n",
    "#a = string.split(\" \")\n",
    "#print(a)\n",
    "#b = sub_string.split(\" \")\n",
    "for i in range(0, len(string)):\n",
    "    if a[i:].startswith(sub_string):\n",
    "        accum += 1\n",
    "print(accum)\n",
    "\n",
    "#for i in range(0, len(a)):\n",
    " #   print (a[i])"
   ]
  }
 ],
 "metadata": {
  "kernelspec": {
   "display_name": "Python 3",
   "language": "python",
   "name": "python3"
  },
  "language_info": {
   "codemirror_mode": {
    "name": "ipython",
    "version": 3
   },
   "file_extension": ".py",
   "mimetype": "text/x-python",
   "name": "python",
   "nbconvert_exporter": "python",
   "pygments_lexer": "ipython3",
   "version": "3.7.6"
  }
 },
 "nbformat": 4,
 "nbformat_minor": 4
}
