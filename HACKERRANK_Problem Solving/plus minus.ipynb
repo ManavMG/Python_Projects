{
 "cells": [
  {
   "cell_type": "code",
   "execution_count": 8,
   "metadata": {},
   "outputs": [
    {
     "name": "stdout",
     "output_type": "stream",
     "text": [
      "0.375\n",
      "0.375\n",
      "0.25\n"
     ]
    }
   ],
   "source": [
    "arr = [1,2, 3, -1, -2, -3, 0, 0]\n",
    "accum = 0\n",
    "accum1 = 0\n",
    "accum2 = 0\n",
    "for i in arr:\n",
    "    if i>0:\n",
    "        accum+=1\n",
    "    elif i<0:\n",
    "        accum1+=1\n",
    "    elif i==0:\n",
    "        accum2+=1\n",
    "c =  accum/len(arr)\n",
    "d =  accum1/len(arr)\n",
    "e = accum2/len(arr)\n",
    "print(c)\n",
    "print(d)\n",
    "print(e)\n",
    "\n",
    "        "
   ]
  }
 ],
 "metadata": {
  "kernelspec": {
   "display_name": "Python 3",
   "language": "python",
   "name": "python3"
  },
  "language_info": {
   "codemirror_mode": {
    "name": "ipython",
    "version": 3
   },
   "file_extension": ".py",
   "mimetype": "text/x-python",
   "name": "python",
   "nbconvert_exporter": "python",
   "pygments_lexer": "ipython3",
   "version": "3.7.6"
  }
 },
 "nbformat": 4,
 "nbformat_minor": 4
}
