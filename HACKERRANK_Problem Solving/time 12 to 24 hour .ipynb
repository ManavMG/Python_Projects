{
 "cells": [
  {
   "cell_type": "code",
   "execution_count": 5,
   "metadata": {},
   "outputs": [
    {
     "name": "stdout",
     "output_type": "stream",
     "text": [
      "Enter the hour7\n",
      "1\n"
     ]
    }
   ],
   "source": [
    "n = 24\n",
    "p = int(input(\"Enter the hour\"))\n",
    "AM = int(input())\n",
    "\n",
    "for i in range(n):\n",
    "    if n == 1:\n",
    "        print(n-(n-p))\n",
    "    if n == 2:\n",
    "        print(n--p)"
   ]
  },
  {
   "cell_type": "code",
   "execution_count": 7,
   "metadata": {},
   "outputs": [
    {
     "name": "stdout",
     "output_type": "stream",
     "text": [
      "Enter the hour7\n",
      "7\n",
      "17\n"
     ]
    }
   ],
   "source": [
    "n = 24\n",
    "p = int(input(\"Enter the hour\"))\n",
    "q = int(input(\"Enter the hour\"))\n",
    "r = int(input(\"Enter the hour\"))\n",
    "\n",
    "acc = ['AM', 'PM']\n",
    "\n",
    "if p == acc[0]:\n",
    "    \n",
    "    print(\"the time is\" + (n-(n-p)) + \":\" + q \":\" r)\n",
    "elif p == acc[1]:\n",
    "    print(\"the time is\" + (n-(n-p)) + \":\" + q \":\" r)\n",
    "\n",
    "print(n-p)"
   ]
  }
 ],
 "metadata": {
  "kernelspec": {
   "display_name": "Python 3",
   "language": "python",
   "name": "python3"
  },
  "language_info": {
   "codemirror_mode": {
    "name": "ipython",
    "version": 3
   },
   "file_extension": ".py",
   "mimetype": "text/x-python",
   "name": "python",
   "nbconvert_exporter": "python",
   "pygments_lexer": "ipython3",
   "version": "3.7.6"
  }
 },
 "nbformat": 4,
 "nbformat_minor": 4
}
