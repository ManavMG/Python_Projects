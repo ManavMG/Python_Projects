{
 "cells": [
  {
   "cell_type": "code",
   "execution_count": null,
   "metadata": {},
   "outputs": [],
   "source": [
    "    students = []\n",
    "    for _ in range(int(input())):\n",
    "        name = input()\n",
    "        score = float(input())\n",
    "        students.append([name, score])\n",
    "\n",
    "    students = sorted(students, key = lambda x: x[1])\n",
    "    #print(key)\n",
    "    second_lowest_score = students[1][1]\n",
    "    second_lowest_score = sorted(list(set([x[1] for x in students])))[1]\n",
    "    desired_students = []\n",
    "    for stu in students:\n",
    "        if stu[1] == second_lowest_score:\n",
    "            desired_students.append(stu[0])\n",
    "    print(\"\\n\".join(sorted(desired_students)))"
   ]
  }
 ],
 "metadata": {
  "kernelspec": {
   "display_name": "Python 3",
   "language": "python",
   "name": "python3"
  },
  "language_info": {
   "codemirror_mode": {
    "name": "ipython",
    "version": 3
   },
   "file_extension": ".py",
   "mimetype": "text/x-python",
   "name": "python",
   "nbconvert_exporter": "python",
   "pygments_lexer": "ipython3",
   "version": "3.7.6"
  }
 },
 "nbformat": 4,
 "nbformat_minor": 4
}
