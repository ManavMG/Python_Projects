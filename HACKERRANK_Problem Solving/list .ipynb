{
 "cells": [
  {
   "cell_type": "code",
   "execution_count": null,
   "metadata": {},
   "outputs": [
    {
     "name": "stdout",
     "output_type": "stream",
     "text": [
      "12\n",
      "insert 0 5\n"
     ]
    }
   ],
   "source": [
    "L = []\n",
    "\n",
    "N = int(input())\n",
    "\n",
    "for i in range(0, N):\n",
    "    tokens = input().split()\n",
    "\n",
    "    if tokens[0] == 'insert':\n",
    "        L.insert(int(tokens[1]), int(tokens[2]))\n",
    "    elif tokens[0] == 'print':\n",
    "        print (L)\n",
    "    elif tokens[0] == 'remove':\n",
    "        L.remove(int(tokens[1]))\n",
    "    elif tokens[0] == 'append':\n",
    "        L.append(int(tokens[1]))\n",
    "    elif tokens[0] == 'sort':\n",
    "        L.sort()\n",
    "    elif tokens[0] == 'pop':\n",
    "        L.pop()\n",
    "    elif tokens[0] == 'reverse':\n",
    "        L.reverse()"
   ]
  }
 ],
 "metadata": {
  "kernelspec": {
   "display_name": "Python 3",
   "language": "python",
   "name": "python3"
  },
  "language_info": {
   "codemirror_mode": {
    "name": "ipython",
    "version": 3
   },
   "file_extension": ".py",
   "mimetype": "text/x-python",
   "name": "python",
   "nbconvert_exporter": "python",
   "pygments_lexer": "ipython3",
   "version": "3.7.6"
  }
 },
 "nbformat": 4,
 "nbformat_minor": 4
}
