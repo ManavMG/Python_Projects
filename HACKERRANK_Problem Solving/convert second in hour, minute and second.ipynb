{
 "cells": [
  {
   "cell_type": "code",
   "execution_count": 11,
   "metadata": {},
   "outputs": [
    {
     "name": "stdout",
     "output_type": "stream",
     "text": [
      "enter the seconds 6000\n",
      "the hour is 1\n",
      "the minute is 40\n",
      "the second is 0\n"
     ]
    }
   ],
   "source": [
    "seconds00 = int(input(\"enter the seconds \"))\n",
    "seconds = int(seconds00)\n",
    "hour = seconds // 3600\n",
    "seconds2 = seconds % 3600\n",
    "minute = seconds2 // 60\n",
    "second = seconds2 % 60\n",
    "print(\"the hour is\", hour)\n",
    "print(\"the minute is\", minute)\n",
    "print(\"the second is\", second)"
   ]
  }
 ],
 "metadata": {
  "kernelspec": {
   "display_name": "Python 3",
   "language": "python",
   "name": "python3"
  },
  "language_info": {
   "codemirror_mode": {
    "name": "ipython",
    "version": 3
   },
   "file_extension": ".py",
   "mimetype": "text/x-python",
   "name": "python",
   "nbconvert_exporter": "python",
   "pygments_lexer": "ipython3",
   "version": "3.7.6"
  }
 },
 "nbformat": 4,
 "nbformat_minor": 4
}
