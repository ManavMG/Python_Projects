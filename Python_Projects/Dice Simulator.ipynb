{
 "cells": [
  {
   "cell_type": "code",
   "execution_count": 1,
   "metadata": {},
   "outputs": [],
   "source": [
    "import random"
   ]
  },
  {
   "cell_type": "code",
   "execution_count": 4,
   "metadata": {},
   "outputs": [
    {
     "name": "stdout",
     "output_type": "stream",
     "text": [
      "2\n",
      "Roll Dice again (y/n)y\n",
      "3\n",
      "Roll Dice again (y/n)y\n",
      "6\n",
      "Roll Dice again (y/n)y\n",
      "3\n",
      "Roll Dice again (y/n)y\n",
      "6\n",
      "Roll Dice again (y/n)y\n",
      "3\n",
      "Roll Dice again (y/n)y\n",
      "2\n",
      "Roll Dice again (y/n)n\n"
     ]
    }
   ],
   "source": [
    "repeat =  True\n",
    "while repeat:\n",
    "    print(random.randint(1,6))\n",
    "    another_roll = input(\"Roll Dice again (y/n)\")\n",
    "    if another_roll.lower() == 'y':\n",
    "        continue\n",
    "    else:\n",
    "        break"
   ]
  }
 ],
 "metadata": {
  "kernelspec": {
   "display_name": "Python 3",
   "language": "python",
   "name": "python3"
  },
  "language_info": {
   "codemirror_mode": {
    "name": "ipython",
    "version": 3
   },
   "file_extension": ".py",
   "mimetype": "text/x-python",
   "name": "python",
   "nbconvert_exporter": "python",
   "pygments_lexer": "ipython3",
   "version": "3.7.6"
  }
 },
 "nbformat": 4,
 "nbformat_minor": 4
}
