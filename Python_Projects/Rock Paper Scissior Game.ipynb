{
 "cells": [
  {
   "cell_type": "code",
   "execution_count": 3,
   "metadata": {},
   "outputs": [],
   "source": [
    "import random"
   ]
  },
  {
   "cell_type": "code",
   "execution_count": 18,
   "metadata": {},
   "outputs": [
    {
     "name": "stdout",
     "output_type": "stream",
     "text": [
      "'r' for rock, 'p' for paper, 's' for scissors\n"
     ]
    },
    {
     "data": {
      "text/plain": [
       "'Tie'"
      ]
     },
     "execution_count": 18,
     "metadata": {},
     "output_type": "execute_result"
    }
   ],
   "source": [
    "def play():\n",
    "    user = input(\"'r' for rock, 'p' for paper, 's' for scissor\")\n",
    "    computer = random.choice(['r','p','s'])\n",
    "\n",
    "    if user == computer:\n",
    "        return 'Tie'\n",
    "\n",
    "    elif is_win(user, computer):\n",
    "        return 'You Won'\n",
    "\n",
    "    else:\n",
    "        return 'You lost'\n",
    "\n",
    "def is_win(player,opponent):\n",
    "    if(player == 'r' and opponent == 's') or (player == 's' and opponent == 'p') or (player == 'p' and opponent == 'r'):\n",
    "        return True\n",
    "    \n",
    "play()"
   ]
  },
  {
   "cell_type": "code",
   "execution_count": null,
   "metadata": {},
   "outputs": [],
   "source": []
  }
 ],
 "metadata": {
  "kernelspec": {
   "display_name": "Python 3",
   "language": "python",
   "name": "python3"
  },
  "language_info": {
   "codemirror_mode": {
    "name": "ipython",
    "version": 3
   },
   "file_extension": ".py",
   "mimetype": "text/x-python",
   "name": "python",
   "nbconvert_exporter": "python",
   "pygments_lexer": "ipython3",
   "version": "3.7.6"
  }
 },
 "nbformat": 4,
 "nbformat_minor": 4
}
