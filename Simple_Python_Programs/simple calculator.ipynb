{
 "cells": [
  {
   "cell_type": "code",
   "execution_count": 3,
   "metadata": {},
   "outputs": [
    {
     "name": "stdout",
     "output_type": "stream",
     "text": [
      "Enter the choices(1/2/3/4): \n",
      " 1. Addition \n",
      " 2.Substraction \n",
      " 3. Multiplication \n",
      " 4. Divison \n",
      "2\n",
      "Enter 1st no.:3\n",
      "Enter 2nd no.:6\n",
      "Subtraction of two no. is -3\n"
     ]
    }
   ],
   "source": [
    "def Add(x,y):\n",
    "    return(x+y)\n",
    "def Subtract(x,y):\n",
    "    return(x-y)\n",
    "def Multiply(x,y):\n",
    "    return(x*y)\n",
    "def Divide(x,y):\n",
    "    return(x/y)\n",
    "\n",
    "a = int(input('Enter the choices(1/2/3/4): \\n 1. Addition \\n 2. Substraction \\n 3. Multiplication \\n 4. Divison \\n'))\n",
    "\n",
    "x = int(input('Enter 1st no.:'))\n",
    "y = int(input('Enter 2nd no.:'))\n",
    "if (a) == 1:\n",
    "    print('Addition of two no. is', Add(x,y))\n",
    "elif (a) == 2:\n",
    "    print('Subtraction of two no. is', Subtract(x,y))\n",
    "elif (a) == 3:\n",
    "    print('Multiplication of two no. is', Multiply(x,y))\n",
    "elif (a) == 4:\n",
    "    print('Divison of two no. is', Divide(x,y))\n",
    "    "
   ]
  }
 ],
 "metadata": {
  "kernelspec": {
   "display_name": "Python 3",
   "language": "python",
   "name": "python3"
  },
  "language_info": {
   "codemirror_mode": {
    "name": "ipython",
    "version": 3
   },
   "file_extension": ".py",
   "mimetype": "text/x-python",
   "name": "python",
   "nbconvert_exporter": "python",
   "pygments_lexer": "ipython3",
   "version": "3.7.6"
  }
 },
 "nbformat": 4,
 "nbformat_minor": 4
}
