{
 "cells": [
  {
   "cell_type": "code",
   "execution_count": 4,
   "metadata": {},
   "outputs": [
    {
     "name": "stdout",
     "output_type": "stream",
     "text": [
      "the hcf of two no. is 8\n"
     ]
    }
   ],
   "source": [
    "def hcf(a,b):\n",
    "    if a>b:\n",
    "        smaller = a\n",
    "    else:\n",
    "        smaller = b\n",
    "    for i in range(1,smaller+1):\n",
    "        if((a%i) == 0) and ((b%i)==0):\n",
    "            hcf1 = i\n",
    "    return hcf1\n",
    "a = 24\n",
    "b = 56\n",
    "print('the hcf of two no. is', hcf(a,b))"
   ]
  }
 ],
 "metadata": {
  "kernelspec": {
   "display_name": "Python 3",
   "language": "python",
   "name": "python3"
  },
  "language_info": {
   "codemirror_mode": {
    "name": "ipython",
    "version": 3
   },
   "file_extension": ".py",
   "mimetype": "text/x-python",
   "name": "python",
   "nbconvert_exporter": "python",
   "pygments_lexer": "ipython3",
   "version": "3.7.6"
  }
 },
 "nbformat": 4,
 "nbformat_minor": 4
}
