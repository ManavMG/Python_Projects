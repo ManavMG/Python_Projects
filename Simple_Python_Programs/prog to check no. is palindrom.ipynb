{
 "cells": [
  {
   "cell_type": "code",
   "execution_count": 4,
   "metadata": {},
   "outputs": [
    {
     "name": "stdout",
     "output_type": "stream",
     "text": [
      "Enter the no. :1331\n",
      "No is not palindrom 1331\n"
     ]
    }
   ],
   "source": [
    "n = int(input('Enter the no. :'))\n",
    "orignum = n\n",
    "accum = 0\n",
    "while(n>0):\n",
    "    b = n %10\n",
    "    accum = accum * 10 + b\n",
    "    n /= 10\n",
    "\n",
    "if (orignum) == n:\n",
    "    print('No is palindrom',orignum)\n",
    "else:\n",
    "    print('No is not palindrom',orignum)"
   ]
  }
 ],
 "metadata": {
  "kernelspec": {
   "display_name": "Python 3",
   "language": "python",
   "name": "python3"
  },
  "language_info": {
   "codemirror_mode": {
    "name": "ipython",
    "version": 3
   },
   "file_extension": ".py",
   "mimetype": "text/x-python",
   "name": "python",
   "nbconvert_exporter": "python",
   "pygments_lexer": "ipython3",
   "version": "3.7.6"
  }
 },
 "nbformat": 4,
 "nbformat_minor": 4
}
