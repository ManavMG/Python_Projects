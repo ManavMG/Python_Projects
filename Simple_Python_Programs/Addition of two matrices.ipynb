{
 "cells": [
  {
   "cell_type": "code",
   "execution_count": 3,
   "metadata": {},
   "outputs": [
    {
     "name": "stdout",
     "output_type": "stream",
     "text": [
      "First matrix is : \n",
      " [[1 2 3]\n",
      " [4 5 6]\n",
      " [7 8 9]]\n",
      "Second matrix is : \n",
      " [[1 2 3]\n",
      " [4 5 6]\n",
      " [7 8 9]]\n",
      "The additon of two matrices are : \n",
      " mat1+mat2 : \n",
      " [[ 1  4  9]\n",
      " [16 25 36]\n",
      " [49 64 81]]\n"
     ]
    }
   ],
   "source": [
    "import numpy as np\n",
    "mat1 = np.array([[1,2,3],[4,5,6],[7,8,9]])\n",
    "print('First matrix is : \\n',mat1)\n",
    "mat2 = np.array([[1,2,3],[4,5,6],[7,8,9]])\n",
    "print('Second matrix is : \\n',mat2)\n",
    "\n",
    "mat3 = mat1+mat2\n",
    "\n",
    "print('The Addition of two matrices are : \\n mat1+mat2 : \\n',mat3)"
   ]
  }
 ],
 "metadata": {
  "kernelspec": {
   "display_name": "Python 3",
   "language": "python",
   "name": "python3"
  },
  "language_info": {
   "codemirror_mode": {
    "name": "ipython",
    "version": 3
   },
   "file_extension": ".py",
   "mimetype": "text/x-python",
   "name": "python",
   "nbconvert_exporter": "python",
   "pygments_lexer": "ipython3",
   "version": "3.7.6"
  }
 },
 "nbformat": 4,
 "nbformat_minor": 4
}
