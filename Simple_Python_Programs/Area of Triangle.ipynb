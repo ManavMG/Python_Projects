{
 "cells": [
  {
   "cell_type": "code",
   "execution_count": 1,
   "metadata": {},
   "outputs": [
    {
     "name": "stdout",
     "output_type": "stream",
     "text": [
      "4\n",
      "the base is 4\n",
      "4\n",
      "the height is 4\n",
      "Area of Triangle is 8.0\n"
     ]
    }
   ],
   "source": [
    "a = int(input())\n",
    "print(\"the base is\",a)\n",
    "b = int(input())\n",
    "print(\"the height is\",b)\n",
    "\n",
    "c = (1/2)*a*b\n",
    "print('Area of Triangle is',c)"
   ]
  }
 ],
 "metadata": {
  "kernelspec": {
   "display_name": "Python 3",
   "language": "python",
   "name": "python3"
  },
  "language_info": {
   "codemirror_mode": {
    "name": "ipython",
    "version": 3
   },
   "file_extension": ".py",
   "mimetype": "text/x-python",
   "name": "python",
   "nbconvert_exporter": "python",
   "pygments_lexer": "ipython3",
   "version": "3.7.6"
  }
 },
 "nbformat": 4,
 "nbformat_minor": 4
}
