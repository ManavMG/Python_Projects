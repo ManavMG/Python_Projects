{
 "cells": [
  {
   "cell_type": "code",
   "execution_count": 1,
   "metadata": {},
   "outputs": [
    {
     "name": "stdout",
     "output_type": "stream",
     "text": [
      "Program to swap two variables\n",
      "8\n",
      "First no. is 8\n",
      "7\n",
      "Second no. is 7\n",
      "After Swaping\n",
      "First no. is 7\n",
      "Second no. is 8\n"
     ]
    }
   ],
   "source": [
    "print('Program to swap two variables')\n",
    "a = int(input())\n",
    "print('First no. is', a)\n",
    "b = int(input())\n",
    "print('Second no. is', b)\n",
    "\n",
    "temp=a\n",
    "a=b\n",
    "b=temp\n",
    "print('After Swaping')\n",
    "print('First no. is', a)\n",
    "print('Second no. is', b)\n",
    "\n"
   ]
  }
 ],
 "metadata": {
  "kernelspec": {
   "display_name": "Python 3",
   "language": "python",
   "name": "python3"
  },
  "language_info": {
   "codemirror_mode": {
    "name": "ipython",
    "version": 3
   },
   "file_extension": ".py",
   "mimetype": "text/x-python",
   "name": "python",
   "nbconvert_exporter": "python",
   "pygments_lexer": "ipython3",
   "version": "3.7.6"
  }
 },
 "nbformat": 4,
 "nbformat_minor": 4
}
