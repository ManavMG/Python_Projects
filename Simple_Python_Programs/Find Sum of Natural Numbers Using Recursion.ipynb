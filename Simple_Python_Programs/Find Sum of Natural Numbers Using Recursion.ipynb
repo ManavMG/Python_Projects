{
 "cells": [
  {
   "cell_type": "code",
   "execution_count": null,
   "metadata": {},
   "outputs": [],
   "source": [
    "def recur_sum(n):\n",
    "    if n<=1:\n",
    "        return(n)\n",
    "    else:\n",
    "        return(n) + recur_sum(n-1)\n",
    "\n",
    "n = int(input('Enter the no. : '))\n",
    "\n",
    "print(\"The sum of natural no. is\",)"
   ]
  }
 ],
 "metadata": {
  "kernelspec": {
   "display_name": "Python 3",
   "language": "python",
   "name": "python3"
  },
  "language_info": {
   "codemirror_mode": {
    "name": "ipython",
    "version": 3
   },
   "file_extension": ".py",
   "mimetype": "text/x-python",
   "name": "python",
   "nbconvert_exporter": "python",
   "pygments_lexer": "ipython3",
   "version": "3.7.6"
  }
 },
 "nbformat": 4,
 "nbformat_minor": 4
}
