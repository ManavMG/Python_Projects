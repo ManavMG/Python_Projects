{
 "cells": [
  {
   "cell_type": "code",
   "execution_count": 3,
   "metadata": {},
   "outputs": [
    {
     "name": "stdout",
     "output_type": "stream",
     "text": [
      "The no. is -\n",
      "7\n",
      "No. is even\n"
     ]
    }
   ],
   "source": [
    "print('The no. is -')\n",
    "a= int(input())\n",
    "if (a/2):\n",
    "    print('No. is even')\n",
    "elif(a > 0 ):\n",
    "    print('No. is positive')\n",
    "else:\n",
    "    print('NO. is zero')"
   ]
  }
 ],
 "metadata": {
  "kernelspec": {
   "display_name": "Python 3",
   "language": "python",
   "name": "python3"
  },
  "language_info": {
   "codemirror_mode": {
    "name": "ipython",
    "version": 3
   },
   "file_extension": ".py",
   "mimetype": "text/x-python",
   "name": "python",
   "nbconvert_exporter": "python",
   "pygments_lexer": "ipython3",
   "version": "3.7.6"
  }
 },
 "nbformat": 4,
 "nbformat_minor": 4
}
