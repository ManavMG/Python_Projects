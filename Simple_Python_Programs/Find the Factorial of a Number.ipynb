{
 "cells": [
  {
   "cell_type": "code",
   "execution_count": 4,
   "metadata": {},
   "outputs": [
    {
     "name": "stdout",
     "output_type": "stream",
     "text": [
      "Enter the no.:8\n",
      "The factorial of 8 is 40320\n"
     ]
    }
   ],
   "source": [
    "\n",
    "n = int(input('Enter the no.:'))\n",
    "factorial = 1\n",
    "for i in range(1,n + 1):\n",
    "    factorial = factorial*i\n",
    "print(\"The factorial of\",n,\"is\",factorial)"
   ]
  }
 ],
 "metadata": {
  "kernelspec": {
   "display_name": "Python 3",
   "language": "python",
   "name": "python3"
  },
  "language_info": {
   "codemirror_mode": {
    "name": "ipython",
    "version": 3
   },
   "file_extension": ".py",
   "mimetype": "text/x-python",
   "name": "python",
   "nbconvert_exporter": "python",
   "pygments_lexer": "ipython3",
   "version": "3.7.6"
  }
 },
 "nbformat": 4,
 "nbformat_minor": 4
}
