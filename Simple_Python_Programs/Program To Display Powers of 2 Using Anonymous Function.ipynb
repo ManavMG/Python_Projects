{
 "cells": [
  {
   "cell_type": "code",
   "execution_count": 9,
   "metadata": {},
   "outputs": [
    {
     "name": "stdout",
     "output_type": "stream",
     "text": [
      "Enter the no. : 5\n",
      "3 raised to power 0 is 1\n",
      "3 raised to power 1 is 3\n",
      "3 raised to power 2 is 9\n",
      "3 raised to power 3 is 27\n",
      "3 raised to power 4 is 81\n"
     ]
    }
   ],
   "source": [
    "a = int(input('Enter the no. : '))\n",
    "result = list(map(lambda x: 2**x , range(a)))\n",
    "\n",
    "#print(result)\n",
    "#print(\"The total terms are:\",a)\n",
    "for i in range(a):\n",
    "    print(\"3 raised to power\",i,\"is\",result[i])"
   ]
  }
 ],
 "metadata": {
  "kernelspec": {
   "display_name": "Python 3",
   "language": "python",
   "name": "python3"
  },
  "language_info": {
   "codemirror_mode": {
    "name": "ipython",
    "version": 3
   },
   "file_extension": ".py",
   "mimetype": "text/x-python",
   "name": "python",
   "nbconvert_exporter": "python",
   "pygments_lexer": "ipython3",
   "version": "3.7.6"
  }
 },
 "nbformat": 4,
 "nbformat_minor": 4
}
