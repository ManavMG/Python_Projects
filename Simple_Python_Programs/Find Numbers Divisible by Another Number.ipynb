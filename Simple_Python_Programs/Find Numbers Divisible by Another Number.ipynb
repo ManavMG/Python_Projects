{
 "cells": [
  {
   "cell_type": "code",
   "execution_count": 18,
   "metadata": {},
   "outputs": [
    {
     "name": "stdout",
     "output_type": "stream",
     "text": [
      "Numbers divisible by 13 are [65, 39, 221]\n"
     ]
    }
   ],
   "source": [
    "my_list = [12, 65, 54, 39, 102, 339, 221,]\n",
    "\n",
    "#for i in my_list:\n",
    "    #if(i%13) == 0:\n",
    "        #print('no. divisble by 13 is ', i)\n",
    "        \n",
    "result = list(filter(lambda x: ( x%13 == 0 ),  my_list))\n",
    "print(\"Numbers divisible by 13 are\",result)\n",
    "\n",
    "\n",
    "#result = list(filter(lambda x: (x % 13 == 0), my_list))\n",
    "\n",
    "# display the result\n",
    "#print(\"Numbers divisible by 13 are\",result)"
   ]
  },
  {
   "cell_type": "code",
   "execution_count": null,
   "metadata": {},
   "outputs": [],
   "source": []
  }
 ],
 "metadata": {
  "kernelspec": {
   "display_name": "Python 3",
   "language": "python",
   "name": "python3"
  },
  "language_info": {
   "codemirror_mode": {
    "name": "ipython",
    "version": 3
   },
   "file_extension": ".py",
   "mimetype": "text/x-python",
   "name": "python",
   "nbconvert_exporter": "python",
   "pygments_lexer": "ipython3",
   "version": "3.7.6"
  }
 },
 "nbformat": 4,
 "nbformat_minor": 4
}
