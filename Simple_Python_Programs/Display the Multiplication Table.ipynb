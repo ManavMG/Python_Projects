{
 "cells": [
  {
   "cell_type": "code",
   "execution_count": 2,
   "metadata": {},
   "outputs": [
    {
     "name": "stdout",
     "output_type": "stream",
     "text": [
      "The no. is :5\n",
      "Table is:\n",
      "5 X 1 = 5\n",
      "5 X 2 = 10\n"
     ]
    }
   ],
   "source": [
    "a = int(input(\"The no. is :\"))\n",
    "print('Table is:')\n",
    "print(a,'X 1 =', a)\n",
    "print(a,'X 2 =', a*2)\n",
    "print(a,'X 3 =', a*3)\n",
    "print(a,'X 4 =', a*4)\n",
    "print(a,'X 5 =', a*5)\n",
    "print(a,'X 6 =', a*6)\n",
    "print(a,'X 7 =', a*7)\n",
    "print(a,'X 8 =', a*8)\n",
    "print(a,'X 9 =', a*9)\n",
    "print(a,'X 10 =', a*2)"
   ]
  }
 ],
 "metadata": {
  "kernelspec": {
   "display_name": "Python 3",
   "language": "python",
   "name": "python3"
  },
  "language_info": {
   "codemirror_mode": {
    "name": "ipython",
    "version": 3
   },
   "file_extension": ".py",
   "mimetype": "text/x-python",
   "name": "python",
   "nbconvert_exporter": "python",
   "pygments_lexer": "ipython3",
   "version": "3.7.6"
  }
 },
 "nbformat": 4,
 "nbformat_minor": 4
}
