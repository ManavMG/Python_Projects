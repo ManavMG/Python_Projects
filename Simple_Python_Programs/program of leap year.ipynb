{
 "cells": [
  {
   "cell_type": "code",
   "execution_count": 17,
   "metadata": {},
   "outputs": [
    {
     "name": "stdout",
     "output_type": "stream",
     "text": [
      "1950\n",
      "the year is not leap year\n"
     ]
    }
   ],
   "source": [
    "#print('the year is')\n",
    "a = int(input())\n",
    "if(a%4) == 0:\n",
    "    print('the year is leap year')\n",
    "elif(a%400) == 0:\n",
    "    print('the year is leap year')\n",
    "elif(a%100) == 0:\n",
    "    print('the year is leap year')\n",
    "else:\n",
    "    print('the year is not leap year')"
   ]
  },
  {
   "cell_type": "code",
   "execution_count": null,
   "metadata": {},
   "outputs": [],
   "source": []
  }
 ],
 "metadata": {
  "kernelspec": {
   "display_name": "Python 3",
   "language": "python",
   "name": "python3"
  },
  "language_info": {
   "codemirror_mode": {
    "name": "ipython",
    "version": 3
   },
   "file_extension": ".py",
   "mimetype": "text/x-python",
   "name": "python",
   "nbconvert_exporter": "python",
   "pygments_lexer": "ipython3",
   "version": "3.7.6"
  }
 },
 "nbformat": 4,
 "nbformat_minor": 4
}
