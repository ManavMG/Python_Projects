{
 "cells": [
  {
   "cell_type": "code",
   "execution_count": 6,
   "metadata": {},
   "outputs": [
    {
     "name": "stdout",
     "output_type": "stream",
     "text": [
      "[0, 0, 1, 2, 2]\n"
     ]
    }
   ],
   "source": [
    "def Selsort(myarray, r):\n",
    "    for x in range(r):\n",
    "        min = x\n",
    "        for y in range(x+1, r):\n",
    "            if myarray[y] < myarray[min]:\n",
    "                min = y\n",
    "        (myarray[x], myarray[min]) = (myarray[min], myarray[x] )\n",
    "\n",
    "mylist = [0,2,1,2,0]\n",
    "r = len(mylist)\n",
    "Selsort(mylist, r)\n",
    "print(mylist)"
   ]
  }
 ],
 "metadata": {
  "kernelspec": {
   "display_name": "Python 3",
   "language": "python",
   "name": "python3"
  },
  "language_info": {
   "codemirror_mode": {
    "name": "ipython",
    "version": 3
   },
   "file_extension": ".py",
   "mimetype": "text/x-python",
   "name": "python",
   "nbconvert_exporter": "python",
   "pygments_lexer": "ipython3",
   "version": "3.7.6"
  }
 },
 "nbformat": 4,
 "nbformat_minor": 4
}
