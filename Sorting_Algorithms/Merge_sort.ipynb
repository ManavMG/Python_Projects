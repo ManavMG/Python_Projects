{
 "cells": [
  {
   "cell_type": "code",
   "execution_count": 19,
   "metadata": {},
   "outputs": [
    {
     "name": "stdout",
     "output_type": "stream",
     "text": [
      "enter the variable0 2 1 2 0\n",
      "[0, 0, 1, 2, 2]\n"
     ]
    }
   ],
   "source": [
    "def msort(mylist, left, right):\n",
    "    if right - left > 1:\n",
    "        middle = (left + right)//2\n",
    "        msort(mylist, left, middle)\n",
    "        msort(mylist, middle, right)\n",
    "        mlist(mylist,left, middle, right)\n",
    "\n",
    "def mlist(mylist, left, middle, right):\n",
    "    leftlist = mylist[left:middle]\n",
    "    rightlist = mylist[middle:right]\n",
    "    k = left\n",
    "    i = 0\n",
    "    j = 0\n",
    "    while(left + i < middle and middle + j < right):\n",
    "        if (leftlist[i]  <= rightlist[j]):\n",
    "            mylist[k] = leftlist[i]\n",
    "            i = i+1\n",
    "        else:\n",
    "            mylist[k] = rightlist[j]\n",
    "            j = j + 1 \n",
    "        k = k+1\n",
    "    if left + i < middle:\n",
    "        while (k < right):\n",
    "            mylist[k] = leftlist[i]\n",
    "            i = i+1\n",
    "            k = k+1\n",
    "        while (k < right):\n",
    "            mylist[k] = rightlist[j]\n",
    "            j = i+1\n",
    "            k = k+1\n",
    "\n",
    "mylist = input(\"enter the variable\").split()\n",
    "mylist = [int(x) for x in mylist]\n",
    "msort(mylist, 0, len(mylist))\n",
    "print(mylist)"
   ]
  }
 ],
 "metadata": {
  "kernelspec": {
   "display_name": "Python 3",
   "language": "python",
   "name": "python3"
  },
  "language_info": {
   "codemirror_mode": {
    "name": "ipython",
    "version": 3
   },
   "file_extension": ".py",
   "mimetype": "text/x-python",
   "name": "python",
   "nbconvert_exporter": "python",
   "pygments_lexer": "ipython3",
   "version": "3.7.6"
  }
 },
 "nbformat": 4,
 "nbformat_minor": 4
}
