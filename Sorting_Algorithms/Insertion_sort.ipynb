{
 "cells": [
  {
   "cell_type": "code",
   "execution_count": 2,
   "metadata": {},
   "outputs": [
    {
     "name": "stdout",
     "output_type": "stream",
     "text": [
      "[0, 1, 0, 0, -1]\n"
     ]
    }
   ],
   "source": [
    "def insersort(a):\n",
    "    for i in range(1, len(a)):\n",
    "        value = a[i]\n",
    "        hole = i\n",
    "        while i>0 and a[hole-1]>value:\n",
    "            a[hole]=a[hole]-1\n",
    "            hole = hole -1\n",
    "        a[hole] = value\n",
    "a = [0,2,1,2,0]\n",
    "insersort(a)\n",
    "print(a)"
   ]
  }
 ],
 "metadata": {
  "kernelspec": {
   "display_name": "Python 3",
   "language": "python",
   "name": "python3"
  },
  "language_info": {
   "codemirror_mode": {
    "name": "ipython",
    "version": 3
   },
   "file_extension": ".py",
   "mimetype": "text/x-python",
   "name": "python",
   "nbconvert_exporter": "python",
   "pygments_lexer": "ipython3",
   "version": "3.7.6"
  }
 },
 "nbformat": 4,
 "nbformat_minor": 4
}
